{
 "cells": [
  {
   "cell_type": "code",
   "execution_count": 1,
   "id": "c96be1ca-ffa8-4c0b-9e81-d8711239026e",
   "metadata": {},
   "outputs": [],
   "source": [
    "#LogisticsRegression_Apple.ipynb:\n",
    "#This file is an attempt at linear regression in this project. \n",
    "#The linear regression classifier built using the code learned in class has a low final accuracy rate (74.32%)."
   ]
  },
  {
   "cell_type": "code",
   "execution_count": null,
   "id": "20b80f69-ef45-428e-b71b-1be6bbafc9f1",
   "metadata": {},
   "outputs": [],
   "source": [
    "#main_v1.ipynb:\n",
    "#Including data loading, data processing, data analysis and various model training, \n",
    "#we achieved relatively good results during the milestone period."
   ]
  },
  {
   "cell_type": "code",
   "execution_count": null,
   "id": "886a686a-005d-4240-8d78-48438937071b",
   "metadata": {},
   "outputs": [],
   "source": [
    "#main_v2.ipynb\n",
    "#In addition to all the processes of main_v1, there are various visualization processes to generate images required for posters and reports, \n",
    "#integrating and condensing all traditional machine learning methods together, \n",
    "#and generating the final result display diagram together with the results of AQNet."
   ]
  },
  {
   "cell_type": "code",
   "execution_count": null,
   "id": "63fe0041-8af0-4d92-bcf4-ecf845fa30ee",
   "metadata": {},
   "outputs": [],
   "source": [
    "#model_config_structureTest.ipynb\n",
    "#AQNet model code with adjustable parameters is used to try out various possibilities of model structure and select the most suitable one."
   ]
  },
  {
   "cell_type": "code",
   "execution_count": null,
   "id": "df5d6f81-eb56-44d5-9a07-a520ca8c8cbb",
   "metadata": {},
   "outputs": [],
   "source": [
    "#AUC.ipynb\n",
    "#AUC graph used to generate the final results of AQNet"
   ]
  }
 ],
 "metadata": {
  "kernelspec": {
   "display_name": "Python 3 (ipykernel)",
   "language": "python",
   "name": "python3"
  },
  "language_info": {
   "codemirror_mode": {
    "name": "ipython",
    "version": 3
   },
   "file_extension": ".py",
   "mimetype": "text/x-python",
   "name": "python",
   "nbconvert_exporter": "python",
   "pygments_lexer": "ipython3",
   "version": "3.12.3"
  }
 },
 "nbformat": 4,
 "nbformat_minor": 5
}
